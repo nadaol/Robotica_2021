{
 "cells": [
  {
   "cell_type": "code",
   "execution_count": 60,
   "metadata": {},
   "outputs": [],
   "source": [
    "import sim          # Library for coppelia communication       \n",
    "import sympy as sp  # Library to work with symbolic variables\n",
    "from scipy import optimize\n",
    "import numpy as np\n",
    "from matplotlib import pyplot as plt"
   ]
  },
  {
   "cell_type": "code",
   "execution_count": 64,
   "metadata": {},
   "outputs": [],
   "source": [
    "# Function to calculate symbolic denavit transformations from parameters\n",
    "\n",
    "def symTfromDH(theta, d, a, alpha):\n",
    "\n",
    "    Rz = sp.Matrix([[sp.cos(theta), -sp.sin(theta), 0, 0],\n",
    "                   [sp.sin(theta), sp.cos(theta), 0, 0],\n",
    "                   [0, 0, 1, 0],\n",
    "                   [0, 0, 0, 1]])\n",
    "    tz = sp.Matrix([[1, 0, 0, 0],\n",
    "                   [0, 1, 0, 0],\n",
    "                   [0, 0, 1, d],\n",
    "                   [0, 0, 0, 1]])\n",
    "    ta = sp.Matrix([[1, 0, 0, a],\n",
    "                   [0, 1, 0, 0],\n",
    "                   [0, 0, 1, 0],\n",
    "                   [0, 0, 0, 1]])\n",
    "    Rx = sp.Matrix([[1, 0, 0, 0],\n",
    "                   [0, sp.cos(alpha), -sp.sin(alpha), 0],\n",
    "                   [0, sp.sin(alpha), sp.cos(alpha), 0],\n",
    "                   [0, 0, 0, 1]])\n",
    "    T = Rz*tz*ta*Rx\n",
    "    return T"
   ]
  },
  {
   "cell_type": "markdown",
   "metadata": {},
   "source": [
    "## Calculate Denavit Transformations"
   ]
  },
  {
   "cell_type": "code",
   "execution_count": 67,
   "metadata": {},
   "outputs": [
    {
     "data": {
      "text/latex": [
       "$\\displaystyle \\left[\\begin{matrix}\\cos{\\left(q_{1} + q_{2} \\right)} & 0 & \\sin{\\left(q_{1} + q_{2} \\right)} & l_{1} \\sin{\\left(q_{1} + q_{2} \\right)} + 600 \\cos{\\left(q_{1} \\right)} + 400 \\cos{\\left(q_{1} + q_{2} \\right)}\\\\0 & -1 & 0 & 0\\\\\\sin{\\left(q_{1} + q_{2} \\right)} & 0 & - \\cos{\\left(q_{1} + q_{2} \\right)} & - l_{1} \\cos{\\left(q_{1} + q_{2} \\right)} + 600 \\sin{\\left(q_{1} \\right)} + 400 \\sin{\\left(q_{1} + q_{2} \\right)} + 300\\\\0 & 0 & 0 & 1\\end{matrix}\\right]$"
      ],
      "text/plain": [
       "Matrix([\n",
       "[cos(q1 + q2),  0,  sin(q1 + q2),        l1*sin(q1 + q2) + 600*cos(q1) + 400*cos(q1 + q2)],\n",
       "[           0, -1,             0,                                                       0],\n",
       "[sin(q1 + q2),  0, -cos(q1 + q2), -l1*cos(q1 + q2) + 600*sin(q1) + 400*sin(q1 + q2) + 300],\n",
       "[           0,  0,             0,                                                       1]])"
      ]
     },
     "execution_count": 67,
     "metadata": {},
     "output_type": "execute_result"
    }
   ],
   "source": [
    "# Robot dimensions\n",
    "L1 = 300\n",
    "L2 = 600\n",
    "L3 = 400\n",
    "\n",
    "q1 = sp.symbols('q1') # First rotational joint angle\n",
    "q2 = sp.symbols('q2') # Second rotational joint angle\n",
    "l1 = sp.symbols('l1') # First prismatic joint length\n",
    "\n",
    "# Calculated denavit parameters\n",
    "theta = [0,q1, q2,0]\n",
    "d = [L1,0,0,l1]\n",
    "a = [0,L2,L3,0]\n",
    "alpha = [sp.pi/2,0,sp.pi/2,0]\n",
    "\n",
    "# Partial transformations to end effector\n",
    "T01 = symTfromDH(theta[0],d[0],a[0],alpha[0])\n",
    "T12 = symTfromDH(theta[1],d[1],a[1],alpha[1])\n",
    "T23 = symTfromDH(theta[2],d[2],a[2],alpha[2])\n",
    "T34 = symTfromDH(theta[3],d[3],a[3],alpha[3])\n",
    "\n",
    "# Final tranformation\n",
    "T04 = T01*T12*T23*T34\n",
    "T04.simplify()\n",
    "T04"
   ]
  },
  {
   "cell_type": "markdown",
   "metadata": {},
   "source": [
    "## Direct Kinematics"
   ]
  },
  {
   "cell_type": "code",
   "execution_count": 77,
   "metadata": {},
   "outputs": [
    {
     "data": {
      "text/latex": [
       "$\\displaystyle \\left[\\begin{matrix}0.19602584925803 & 0 & 0.980598728544285 & 199.948244172207\\\\0 & -1.0 & 0 & 0\\\\0.980598728544285 & 0 & -0.19602584925803 & 1279.81462514725\\\\0 & 0 & 0 & 1.0\\end{matrix}\\right]$"
      ],
      "text/plain": [
       "Matrix([\n",
       "[ 0.19602584925803,    0, 0.980598728544285, 199.948244172207],\n",
       "[                0, -1.0,                 0,                0],\n",
       "[0.980598728544285,    0, -0.19602584925803, 1279.81462514725],\n",
       "[                0,    0,                 0,              1.0]])"
      ]
     },
     "execution_count": 77,
     "metadata": {},
     "output_type": "execute_result"
    }
   ],
   "source": [
    "# Evaluate end effector transformation\n",
    "#1.373492839990343 q2 0.010033453033146945 l1 4.003660654923575\n",
    "values ={     \n",
    "q1:1.373492839990343,          # (0 , pi)     \n",
    "q2: 0,         # (-pi/4 , pi/4) \n",
    "l1: 4         # (0 , 300mm) \n",
    "}\n",
    "\n",
    "T04.evalf(subs=values)"
   ]
  },
  {
   "cell_type": "code",
   "execution_count": 70,
   "metadata": {},
   "outputs": [],
   "source": [
    "# Evaluate random positions to plot the work volume\n",
    "N_POINTS = 1000\n",
    "points = np.zeros([N_POINTS,3])\n",
    "for i in range(N_POINTS):\n",
    "    values ={     \n",
    "    q1:np.random.uniform(0,sp.pi),   #(0 , pi)      \n",
    "    q2:np.random.uniform(-sp.pi/4,sp.pi/4), #(-pi/4 , pi/4)\n",
    "    l1:np.random.uniform(0,300),           # (0 , 300mm) \n",
    "    }\n",
    "    points[i,0:3] = (np.array(T04.evalf(subs=values)[0:3,3]).squeeze())"
   ]
  },
  {
   "cell_type": "code",
   "execution_count": 73,
   "metadata": {},
   "outputs": [
    {
     "data": {
      "image/png": "[encoded data removed]",
      "text/plain": [
       "<Figure size 576x432 with 1 Axes>"
      ]
     },
     "metadata": {
      "needs_background": "light"
     },
     "output_type": "display_data"
    }
   ],
   "source": [
    "plt.ion()\n",
    "plt.rcParams['figure.figsize'] = (8,6)\n",
    "ax =plt.axes(projection='3d')\n",
    "\n",
    "ax.scatter3D(points[:,0],points[:,1],points[:,2])\n",
    "ax.set_xlabel('x')\n",
    "ax.set_ylabel('y')\n",
    "ax.set_zlabel('z')\n",
    "ax.view_init(elev=180,azim=270)\n"
   ]
  },
  {
   "cell_type": "code",
   "execution_count": 19,
   "metadata": {},
   "outputs": [
    {
     "data": {
      "text/latex": [
       "$\\displaystyle \\left[\\begin{matrix}\\cos{\\left(q_{1} + q_{2} \\right)} & 0 & \\sin{\\left(q_{1} + q_{2} \\right)} & l_{1} \\sin{\\left(q_{1} + q_{2} \\right)} + 600 \\cos{\\left(q_{1} \\right)} + 400 \\cos{\\left(q_{1} + q_{2} \\right)}\\\\0 & -1 & 0 & 0\\\\\\sin{\\left(q_{1} + q_{2} \\right)} & 0 & - \\cos{\\left(q_{1} + q_{2} \\right)} & - l_{1} \\cos{\\left(q_{1} + q_{2} \\right)} + 600 \\sin{\\left(q_{1} \\right)} + 400 \\sin{\\left(q_{1} + q_{2} \\right)} + 300\\\\0 & 0 & 0 & 1\\end{matrix}\\right]$"
      ],
      "text/plain": [
       "Matrix([\n",
       "[cos(q1 + q2),  0,  sin(q1 + q2),        l1*sin(q1 + q2) + 600*cos(q1) + 400*cos(q1 + q2)],\n",
       "[           0, -1,             0,                                                       0],\n",
       "[sin(q1 + q2),  0, -cos(q1 + q2), -l1*cos(q1 + q2) + 600*sin(q1) + 400*sin(q1 + q2) + 300],\n",
       "[           0,  0,             0,                                                       1]])"
      ]
     },
     "execution_count": 19,
     "metadata": {},
     "output_type": "execute_result"
    }
   ],
   "source": [
    "T04"
   ]
  },
  {
   "cell_type": "markdown",
   "metadata": {},
   "source": [
    "## Inverse Kinematics"
   ]
  },
  {
   "cell_type": "code",
   "execution_count": 74,
   "metadata": {},
   "outputs": [],
   "source": [
    "# Define end effector postition\n",
    "\n",
    "X = 200\n",
    "Y = 0\n",
    "Z = 1300\n",
    "\n",
    "def eqs(q):\n",
    "    q1 = q[0]\n",
    "    q2 = q[1]\n",
    "    l1 = q[2]\n",
    "    f = np.zeros(3)\n",
    "    f[0] = l1*np.sin(q1 + q2) + 600*np.cos(q1) + 400*np.cos(q1 + q2)  -X\n",
    "    f[1] = 0 - Y\n",
    "    f[2] = -l1*np.cos(q1 + q2) + 600*np.sin(q1) + 400*np.sin(q1 + q2)+300 - Z\n",
    "    return f"
   ]
  },
  {
   "cell_type": "code",
   "execution_count": 76,
   "metadata": {},
   "outputs": [
    {
     "name": "stdout",
     "output_type": "stream",
     "text": [
      "q1 1.373492839990343 q2 0.010033453033146945 l1 4.003660654923575 \n"
     ]
    }
   ],
   "source": [
    "q=optimize.fsolve(eqs,[1,1,1])\n",
    "print(f'q1 {q[0]} q2 {q[1]} l1 {q[2]} ')"
   ]
  }
 ],
 "metadata": {
  "kernelspec": {
   "display_name": "Python 3",
   "language": "python",
   "name": "python3"
  },
  "language_info": {
   "codemirror_mode": {
    "name": "ipython",
    "version": 3
   },
   "file_extension": ".py",
   "mimetype": "text/x-python",
   "name": "python",
   "nbconvert_exporter": "python",
   "pygments_lexer": "ipython3",
   "version": "3.8.5"
  }
 },
 "nbformat": 4,
 "nbformat_minor": 2
}
